{
 "cells": [
  {
   "cell_type": "code",
   "execution_count": 1,
   "metadata": {},
   "outputs": [],
   "source": [
    "from pyspark.sql.types import *\n",
    "from handyspark import *\n",
    "from pyspark.sql.functions import *\n",
    "from pyspark.sql import SparkSession\n",
    "from pyspark.sql import SQLContext\n",
    "import pandas as pd\n",
    "import numpy as np"
   ]
  },
  {
   "cell_type": "code",
   "execution_count": 2,
   "metadata": {},
   "outputs": [],
   "source": [
    "#####################\n",
    "# Create SparkSession\n",
    "#####################\n",
    "sc, sql_sc = [None, None]\n",
    "try:\n",
    "    sc = SparkSession \\\n",
    "        .builder \\\n",
    "        .appName(\"spark-flo\") \\\n",
    "        .config(\"spark.executor.memory\", \"30g\") \\\n",
    "        .config(\"spark.driver.memory\", \"30g\") \\\n",
    "        .config(\"spark.driver.allowMultipleContexts\", \"false\") \\\n",
    "        .enableHiveSupport() \\\n",
    "        .getOrCreate()\n",
    "\n",
    "    sql_sc = SQLContext(sc)\n",
    "except SparkSessionError:\n",
    "    print(\"Spark Session Failed to initialize.\")\n",
    "    pass"
   ]
  },
  {
   "cell_type": "markdown",
   "metadata": {},
   "source": [
    "# Create dataframe from pandas dataframe"
   ]
  },
  {
   "cell_type": "code",
   "execution_count": 3,
   "metadata": {},
   "outputs": [],
   "source": [
    "pdf1 = pd.DataFrame({'name':['Doraemon','Hachi','Shinchan','Felix'],'score':[24,68,21,49],'kind':['Cat','Bee','Human','Cat']})\n",
    "pdf2 = pd.DataFrame({'name':['Nobita','Doraemon','Dorami','Ratatouile'],'score':[60,21,45,30],'kind':['Human','Cat','Cat','Mouse'],})"
   ]
  },
  {
   "cell_type": "code",
   "execution_count": 4,
   "metadata": {},
   "outputs": [
    {
     "data": {
      "text/html": [
       "<div>\n",
       "<style scoped>\n",
       "    .dataframe tbody tr th:only-of-type {\n",
       "        vertical-align: middle;\n",
       "    }\n",
       "\n",
       "    .dataframe tbody tr th {\n",
       "        vertical-align: top;\n",
       "    }\n",
       "\n",
       "    .dataframe thead th {\n",
       "        text-align: right;\n",
       "    }\n",
       "</style>\n",
       "<table border=\"1\" class=\"dataframe\">\n",
       "  <thead>\n",
       "    <tr style=\"text-align: right;\">\n",
       "      <th></th>\n",
       "      <th>name</th>\n",
       "      <th>score</th>\n",
       "      <th>kind</th>\n",
       "    </tr>\n",
       "  </thead>\n",
       "  <tbody>\n",
       "    <tr>\n",
       "      <th>0</th>\n",
       "      <td>Doraemon</td>\n",
       "      <td>24</td>\n",
       "      <td>Cat</td>\n",
       "    </tr>\n",
       "    <tr>\n",
       "      <th>1</th>\n",
       "      <td>Hachi</td>\n",
       "      <td>68</td>\n",
       "      <td>Bee</td>\n",
       "    </tr>\n",
       "    <tr>\n",
       "      <th>2</th>\n",
       "      <td>Shinchan</td>\n",
       "      <td>21</td>\n",
       "      <td>Human</td>\n",
       "    </tr>\n",
       "    <tr>\n",
       "      <th>3</th>\n",
       "      <td>Felix</td>\n",
       "      <td>49</td>\n",
       "      <td>Cat</td>\n",
       "    </tr>\n",
       "  </tbody>\n",
       "</table>\n",
       "</div>"
      ],
      "text/plain": [
       "       name  score   kind\n",
       "0  Doraemon     24    Cat\n",
       "1     Hachi     68    Bee\n",
       "2  Shinchan     21  Human\n",
       "3     Felix     49    Cat"
      ]
     },
     "execution_count": 4,
     "metadata": {},
     "output_type": "execute_result"
    }
   ],
   "source": [
    "pdf1"
   ]
  },
  {
   "cell_type": "code",
   "execution_count": 5,
   "metadata": {},
   "outputs": [
    {
     "data": {
      "text/html": [
       "<div>\n",
       "<style scoped>\n",
       "    .dataframe tbody tr th:only-of-type {\n",
       "        vertical-align: middle;\n",
       "    }\n",
       "\n",
       "    .dataframe tbody tr th {\n",
       "        vertical-align: top;\n",
       "    }\n",
       "\n",
       "    .dataframe thead th {\n",
       "        text-align: right;\n",
       "    }\n",
       "</style>\n",
       "<table border=\"1\" class=\"dataframe\">\n",
       "  <thead>\n",
       "    <tr style=\"text-align: right;\">\n",
       "      <th></th>\n",
       "      <th>name</th>\n",
       "      <th>score</th>\n",
       "      <th>kind</th>\n",
       "    </tr>\n",
       "  </thead>\n",
       "  <tbody>\n",
       "    <tr>\n",
       "      <th>0</th>\n",
       "      <td>Nobita</td>\n",
       "      <td>60</td>\n",
       "      <td>Human</td>\n",
       "    </tr>\n",
       "    <tr>\n",
       "      <th>1</th>\n",
       "      <td>Doraemon</td>\n",
       "      <td>21</td>\n",
       "      <td>Cat</td>\n",
       "    </tr>\n",
       "    <tr>\n",
       "      <th>2</th>\n",
       "      <td>Dorami</td>\n",
       "      <td>45</td>\n",
       "      <td>Cat</td>\n",
       "    </tr>\n",
       "    <tr>\n",
       "      <th>3</th>\n",
       "      <td>Ratatouile</td>\n",
       "      <td>30</td>\n",
       "      <td>Mouse</td>\n",
       "    </tr>\n",
       "  </tbody>\n",
       "</table>\n",
       "</div>"
      ],
      "text/plain": [
       "         name  score   kind\n",
       "0      Nobita     60  Human\n",
       "1    Doraemon     21    Cat\n",
       "2      Dorami     45    Cat\n",
       "3  Ratatouile     30  Mouse"
      ]
     },
     "execution_count": 5,
     "metadata": {},
     "output_type": "execute_result"
    }
   ],
   "source": [
    "pdf2"
   ]
  },
  {
   "cell_type": "code",
   "execution_count": 6,
   "metadata": {},
   "outputs": [],
   "source": [
    "sdf1 = sc.createDataFrame(pdf1)\n",
    "sdf2 = sc.createDataFrame(pdf2)"
   ]
  },
  {
   "cell_type": "code",
   "execution_count": 7,
   "metadata": {},
   "outputs": [
    {
     "name": "stdout",
     "output_type": "stream",
     "text": [
      "+--------+-----+-----+\n",
      "|    name|score| kind|\n",
      "+--------+-----+-----+\n",
      "|Doraemon|   24|  Cat|\n",
      "|   Hachi|   68|  Bee|\n",
      "|Shinchan|   21|Human|\n",
      "|   Felix|   49|  Cat|\n",
      "+--------+-----+-----+\n",
      "\n"
     ]
    }
   ],
   "source": [
    "sdf1.show()"
   ]
  },
  {
   "cell_type": "code",
   "execution_count": 8,
   "metadata": {},
   "outputs": [
    {
     "name": "stdout",
     "output_type": "stream",
     "text": [
      "+----------+-----+-----+\n",
      "|      name|score| kind|\n",
      "+----------+-----+-----+\n",
      "|    Nobita|   60|Human|\n",
      "|  Doraemon|   21|  Cat|\n",
      "|    Dorami|   45|  Cat|\n",
      "|Ratatouile|   30|Mouse|\n",
      "+----------+-----+-----+\n",
      "\n"
     ]
    }
   ],
   "source": [
    "sdf2.show()"
   ]
  },
  {
   "cell_type": "markdown",
   "metadata": {},
   "source": [
    "# Joins using SQL"
   ]
  },
  {
   "cell_type": "code",
   "execution_count": 9,
   "metadata": {},
   "outputs": [],
   "source": [
    "sql_sc.registerDataFrameAsTable(sdf1,'table1')\n",
    "sql_sc.registerDataFrameAsTable(sdf2,'table2')"
   ]
  },
  {
   "cell_type": "code",
   "execution_count": 11,
   "metadata": {},
   "outputs": [
    {
     "data": {
      "text/plain": [
       "[Row(name='Felix', score=49, kind='Cat', name=None, score=None, kind=None),\n",
       " Row(name='Shinchan', score=21, kind='Human', name=None, score=None, kind=None),\n",
       " Row(name='Doraemon', score=24, kind='Cat', name='Doraemon', score=21, kind='Cat'),\n",
       " Row(name='Hachi', score=68, kind='Bee', name=None, score=None, kind=None)]"
      ]
     },
     "execution_count": 11,
     "metadata": {},
     "output_type": "execute_result"
    }
   ],
   "source": [
    "sql_sc.sql(\"\"\"    \n",
    "select *\n",
    "from table1\n",
    "left join table2 on table1.name = table2.name\n",
    "\"\"\").collect()"
   ]
  },
  {
   "cell_type": "code",
   "execution_count": 13,
   "metadata": {},
   "outputs": [
    {
     "name": "stdout",
     "output_type": "stream",
     "text": [
      "+--------+-----+-----+--------+-----+----+\n",
      "|    name|score| kind|    name|score|kind|\n",
      "+--------+-----+-----+--------+-----+----+\n",
      "|   Felix|   49|  Cat|    null| null|null|\n",
      "|Shinchan|   21|Human|    null| null|null|\n",
      "|Doraemon|   24|  Cat|Doraemon|   21| Cat|\n",
      "|   Hachi|   68|  Bee|    null| null|null|\n",
      "+--------+-----+-----+--------+-----+----+\n",
      "\n"
     ]
    }
   ],
   "source": [
    "sql_sc.sql(\"\"\"    \n",
    "select *\n",
    "from table1\n",
    "left join table2 on table1.name = table2.name\n",
    "\"\"\").show()"
   ]
  },
  {
   "cell_type": "markdown",
   "metadata": {},
   "source": [
    "# Joins using PySpark"
   ]
  },
  {
   "cell_type": "code",
   "execution_count": 14,
   "metadata": {},
   "outputs": [],
   "source": [
    "t1 = sdf1.alias('t1_alias')\n",
    "t2 = sdf2.alias('t2_alias')"
   ]
  },
  {
   "cell_type": "code",
   "execution_count": 19,
   "metadata": {},
   "outputs": [
    {
     "data": {
      "text/plain": [
       "[Row(name='Felix', score=49, kind='Cat', name=None, score=None, kind=None),\n",
       " Row(name='Shinchan', score=21, kind='Human', name=None, score=None, kind=None),\n",
       " Row(name='Doraemon', score=24, kind='Cat', name='Doraemon', score=21, kind='Cat'),\n",
       " Row(name='Hachi', score=68, kind='Bee', name=None, score=None, kind=None)]"
      ]
     },
     "execution_count": 19,
     "metadata": {},
     "output_type": "execute_result"
    }
   ],
   "source": [
    "t1.join(t2, t1.name == t2.name, how='left').collect()"
   ]
  },
  {
   "cell_type": "code",
   "execution_count": 18,
   "metadata": {},
   "outputs": [
    {
     "name": "stdout",
     "output_type": "stream",
     "text": [
      "+--------+-----+-----+--------+-----+----+\n",
      "|    name|score| kind|    name|score|kind|\n",
      "+--------+-----+-----+--------+-----+----+\n",
      "|   Felix|   49|  Cat|    null| null|null|\n",
      "|Shinchan|   21|Human|    null| null|null|\n",
      "|Doraemon|   24|  Cat|Doraemon|   21| Cat|\n",
      "|   Hachi|   68|  Bee|    null| null|null|\n",
      "+--------+-----+-----+--------+-----+----+\n",
      "\n"
     ]
    }
   ],
   "source": [
    "t1.join(t2, t1.name == t2.name, how='left').show()"
   ]
  },
  {
   "cell_type": "code",
   "execution_count": 22,
   "metadata": {},
   "outputs": [
    {
     "name": "stdout",
     "output_type": "stream",
     "text": [
      "+--------+-----+-----+--------+-----+----+\n",
      "|    name|score| kind|    name|score|kind|\n",
      "+--------+-----+-----+--------+-----+----+\n",
      "|   Felix|   49|  Cat|    null| null|null|\n",
      "|Shinchan|   21|Human|    null| null|null|\n",
      "|Doraemon|   24|  Cat|Doraemon|   21| Cat|\n",
      "|   Hachi|   68|  Bee|    null| null|null|\n",
      "+--------+-----+-----+--------+-----+----+\n",
      "\n"
     ]
    }
   ],
   "source": [
    "sdf1.join(sdf2, sdf1.name == sdf2.name, how='left').show()"
   ]
  },
  {
   "cell_type": "markdown",
   "metadata": {},
   "source": [
    "# Group By using SQL"
   ]
  },
  {
   "cell_type": "markdown",
   "metadata": {},
   "source": [
    "### Count"
   ]
  },
  {
   "cell_type": "code",
   "execution_count": 21,
   "metadata": {},
   "outputs": [
    {
     "name": "stdout",
     "output_type": "stream",
     "text": [
      "+-----+----------+\n",
      "| kind|count_kind|\n",
      "+-----+----------+\n",
      "|  Cat|         2|\n",
      "|  Bee|         1|\n",
      "|Human|         1|\n",
      "+-----+----------+\n",
      "\n"
     ]
    }
   ],
   "source": [
    "sql_sc.sql(\"\"\"    \n",
    "select kind, count(*) as count_kind\n",
    "from table1\n",
    "group by kind\n",
    "\"\"\").show()"
   ]
  },
  {
   "cell_type": "markdown",
   "metadata": {},
   "source": [
    "### Average"
   ]
  },
  {
   "cell_type": "code",
   "execution_count": 28,
   "metadata": {},
   "outputs": [
    {
     "name": "stdout",
     "output_type": "stream",
     "text": [
      "+---------+\n",
      "|score_avg|\n",
      "+---------+\n",
      "|     40.5|\n",
      "+---------+\n",
      "\n"
     ]
    }
   ],
   "source": [
    "sql_sc.sql(\"\"\"    \n",
    "select avg(score) as score_avg\n",
    "from table1\n",
    "\"\"\").show()"
   ]
  },
  {
   "cell_type": "markdown",
   "metadata": {},
   "source": [
    "### Order by"
   ]
  },
  {
   "cell_type": "code",
   "execution_count": 34,
   "metadata": {},
   "outputs": [
    {
     "name": "stdout",
     "output_type": "stream",
     "text": [
      "+--------+-----+-----+\n",
      "|    name|score| kind|\n",
      "+--------+-----+-----+\n",
      "|Shinchan|   21|Human|\n",
      "|Doraemon|   24|  Cat|\n",
      "|   Felix|   49|  Cat|\n",
      "|   Hachi|   68|  Bee|\n",
      "+--------+-----+-----+\n",
      "\n"
     ]
    }
   ],
   "source": [
    "sql_sc.sql(\"\"\"\n",
    "select *\n",
    "from table1\n",
    "order by score\n",
    "\"\"\").show()"
   ]
  },
  {
   "cell_type": "markdown",
   "metadata": {},
   "source": [
    "### Filter using where "
   ]
  },
  {
   "cell_type": "code",
   "execution_count": 36,
   "metadata": {},
   "outputs": [
    {
     "name": "stdout",
     "output_type": "stream",
     "text": [
      "+--------+-----+-----+\n",
      "|    name|score| kind|\n",
      "+--------+-----+-----+\n",
      "|Doraemon|   24|  Cat|\n",
      "|Shinchan|   21|Human|\n",
      "+--------+-----+-----+\n",
      "\n"
     ]
    }
   ],
   "source": [
    "sql_sc.sql(\"\"\"\n",
    "select *\n",
    "from table1\n",
    "where score < 30\n",
    "\"\"\").show()"
   ]
  },
  {
   "cell_type": "markdown",
   "metadata": {},
   "source": [
    "### Filter using like"
   ]
  },
  {
   "cell_type": "code",
   "execution_count": 39,
   "metadata": {},
   "outputs": [
    {
     "name": "stdout",
     "output_type": "stream",
     "text": [
      "+--------+-----+----+\n",
      "|    name|score|kind|\n",
      "+--------+-----+----+\n",
      "|Doraemon|   24| Cat|\n",
      "+--------+-----+----+\n",
      "\n"
     ]
    }
   ],
   "source": [
    "sql_sc.sql(\"\"\"\n",
    "select *\n",
    "from table1\n",
    "where lower(name) like 'dora%'\n",
    "\"\"\").show()"
   ]
  },
  {
   "cell_type": "code",
   "execution_count": null,
   "metadata": {},
   "outputs": [],
   "source": []
  },
  {
   "cell_type": "code",
   "execution_count": null,
   "metadata": {},
   "outputs": [],
   "source": []
  },
  {
   "cell_type": "markdown",
   "metadata": {},
   "source": [
    "# Group By using PySpark"
   ]
  },
  {
   "cell_type": "code",
   "execution_count": 51,
   "metadata": {},
   "outputs": [
    {
     "name": "stdout",
     "output_type": "stream",
     "text": [
      "+-----+-----+\n",
      "| kind|count|\n",
      "+-----+-----+\n",
      "|  Cat|    2|\n",
      "|  Bee|    1|\n",
      "|Human|    1|\n",
      "+-----+-----+\n",
      "\n"
     ]
    }
   ],
   "source": [
    "sdf1.groupBy('kind').count().show()"
   ]
  },
  {
   "cell_type": "code",
   "execution_count": 50,
   "metadata": {},
   "outputs": [
    {
     "name": "stdout",
     "output_type": "stream",
     "text": [
      "+-----+----------+\n",
      "| kind|count_kind|\n",
      "+-----+----------+\n",
      "|  Cat|         2|\n",
      "|  Bee|         1|\n",
      "|Human|         1|\n",
      "+-----+----------+\n",
      "\n"
     ]
    }
   ],
   "source": [
    "sdf1.groupBy('kind').agg(count('kind').alias('count_kind')).show()"
   ]
  },
  {
   "cell_type": "markdown",
   "metadata": {},
   "source": [
    "### Average"
   ]
  },
  {
   "cell_type": "code",
   "execution_count": 33,
   "metadata": {},
   "outputs": [
    {
     "name": "stdout",
     "output_type": "stream",
     "text": [
      "+---------+\n",
      "|score_avg|\n",
      "+---------+\n",
      "|     40.5|\n",
      "+---------+\n",
      "\n"
     ]
    }
   ],
   "source": [
    "sdf1.select(mean(col('score')).alias('score_avg')).show()"
   ]
  },
  {
   "cell_type": "markdown",
   "metadata": {},
   "source": [
    "### Order by"
   ]
  },
  {
   "cell_type": "code",
   "execution_count": 35,
   "metadata": {},
   "outputs": [
    {
     "name": "stdout",
     "output_type": "stream",
     "text": [
      "+--------+-----+-----+\n",
      "|    name|score| kind|\n",
      "+--------+-----+-----+\n",
      "|Shinchan|   21|Human|\n",
      "|Doraemon|   24|  Cat|\n",
      "|   Felix|   49|  Cat|\n",
      "|   Hachi|   68|  Bee|\n",
      "+--------+-----+-----+\n",
      "\n"
     ]
    }
   ],
   "source": [
    "sdf1.orderBy('score').show()"
   ]
  },
  {
   "cell_type": "markdown",
   "metadata": {},
   "source": [
    "### Filter using where"
   ]
  },
  {
   "cell_type": "code",
   "execution_count": 38,
   "metadata": {},
   "outputs": [
    {
     "name": "stdout",
     "output_type": "stream",
     "text": [
      "+--------+-----+-----+\n",
      "|    name|score| kind|\n",
      "+--------+-----+-----+\n",
      "|Doraemon|   24|  Cat|\n",
      "|Shinchan|   21|Human|\n",
      "+--------+-----+-----+\n",
      "\n"
     ]
    }
   ],
   "source": [
    "sdf1.where(sdf1.score < 30).show()"
   ]
  },
  {
   "cell_type": "markdown",
   "metadata": {},
   "source": [
    "### Filter using like"
   ]
  },
  {
   "cell_type": "code",
   "execution_count": 40,
   "metadata": {},
   "outputs": [
    {
     "name": "stdout",
     "output_type": "stream",
     "text": [
      "+--------+-----+----+\n",
      "|    name|score|kind|\n",
      "+--------+-----+----+\n",
      "|Doraemon|   24| Cat|\n",
      "+--------+-----+----+\n",
      "\n"
     ]
    }
   ],
   "source": [
    "sdf1.where(lower(col('name')).like(\"dora%\")).show()"
   ]
  },
  {
   "cell_type": "code",
   "execution_count": null,
   "metadata": {},
   "outputs": [],
   "source": []
  }
 ],
 "metadata": {
  "kernelspec": {
   "display_name": "Python 3",
   "language": "python",
   "name": "python3"
  },
  "language_info": {
   "codemirror_mode": {
    "name": "ipython",
    "version": 3
   },
   "file_extension": ".py",
   "mimetype": "text/x-python",
   "name": "python",
   "nbconvert_exporter": "python",
   "pygments_lexer": "ipython3",
   "version": "3.6.5"
  }
 },
 "nbformat": 4,
 "nbformat_minor": 2
}
