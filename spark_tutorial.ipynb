{
 "cells": [
  {
   "cell_type": "markdown",
   "metadata": {},
   "source": [
    "List of operations:\n",
    "* [Joins](#joins)\n",
    "* [Drop Duplicates](#drop_duplicates)\n",
    "* [Group By](#group_by)\n",
    "* [Order By](#order_by)\n",
    "* [Filter using where](#filter_using_where)\n",
    "* [Filter using like](#filter_using_like)\n",
    "* [Count distinct values in a column](#count_distinct_values_in_a_column)\n",
    "* [Count null rows per column](#count_null_rows_per_column)\n",
    "* [Get items of a column in table A not present in a column of table B](#get_items_A_not_in_B)\n",
    "* [Get the items not common to both column in table A and column in table B](#get_items_not_in_A_B)\n",
    "<!-- * [Joins](#joins) -->"
   ]
  },
  {
   "cell_type": "markdown",
   "metadata": {},
   "source": [
    "# Import Library"
   ]
  },
  {
   "cell_type": "code",
   "execution_count": 1,
   "metadata": {},
   "outputs": [],
   "source": [
    "from pyspark.sql.types import *\n",
    "from handyspark import *\n",
    "from pyspark.sql import functions as f\n",
    "from pyspark.sql.functions import *\n",
    "from pyspark.sql import SparkSession\n",
    "from pyspark.sql import SQLContext\n",
    "import pandas as pd\n",
    "import numpy as np"
   ]
  },
  {
   "cell_type": "code",
   "execution_count": 2,
   "metadata": {},
   "outputs": [],
   "source": [
    "#####################\n",
    "# Create SparkSession\n",
    "#####################\n",
    "sc, sql_sc = [None, None]\n",
    "try:\n",
    "    sc = SparkSession \\\n",
    "        .builder \\\n",
    "        .appName(\"spark-flo\") \\\n",
    "        .config(\"spark.executor.memory\", \"30g\") \\\n",
    "        .config(\"spark.driver.memory\", \"30g\") \\\n",
    "        .config(\"spark.driver.allowMultipleContexts\", \"false\") \\\n",
    "        .enableHiveSupport() \\\n",
    "        .getOrCreate()\n",
    "\n",
    "    sql_sc = SQLContext(sc)\n",
    "except SparkSessionError:\n",
    "    print(\"Spark Session Failed to initialize.\")\n",
    "    pass"
   ]
  },
  {
   "cell_type": "markdown",
   "metadata": {},
   "source": [
    "# Create spark dataframe from pandas dataframe"
   ]
  },
  {
   "cell_type": "code",
   "execution_count": 3,
   "metadata": {},
   "outputs": [],
   "source": [
    "pdf1 = pd.DataFrame({'name':['Doraemon','Hachi','Shinchan','Felix','Felix']\\\n",
    "                     ,'score':[24,68,21,49,49]\\\n",
    "                     ,'kind':['Cat','Bee','Human','Cat','Cat']\n",
    "                     ,'enrollment_date':['2019-01-02','2018-12-08','2018-06-05','2018-11-12','2018-11-12']})\n",
    "pdf2 = pd.DataFrame({'name':['Nobita','Doraemon','Dorami','Ratatouile']\\\n",
    "                     ,'score':[60,21,45,30]\\\n",
    "                     ,'kind':['Human','Cat','Cat','Mouse']\n",
    "                     ,'enrollment_date':['2019-12-02','2018-11-01','2018-06-15','2018-10-12']})\n"
   ]
  },
  {
   "cell_type": "code",
   "execution_count": 4,
   "metadata": {},
   "outputs": [
    {
     "data": {
      "text/html": [
       "<div>\n",
       "<style scoped>\n",
       "    .dataframe tbody tr th:only-of-type {\n",
       "        vertical-align: middle;\n",
       "    }\n",
       "\n",
       "    .dataframe tbody tr th {\n",
       "        vertical-align: top;\n",
       "    }\n",
       "\n",
       "    .dataframe thead th {\n",
       "        text-align: right;\n",
       "    }\n",
       "</style>\n",
       "<table border=\"1\" class=\"dataframe\">\n",
       "  <thead>\n",
       "    <tr style=\"text-align: right;\">\n",
       "      <th></th>\n",
       "      <th>name</th>\n",
       "      <th>score</th>\n",
       "      <th>kind</th>\n",
       "      <th>enrollment_date</th>\n",
       "    </tr>\n",
       "  </thead>\n",
       "  <tbody>\n",
       "    <tr>\n",
       "      <td>0</td>\n",
       "      <td>Doraemon</td>\n",
       "      <td>24</td>\n",
       "      <td>Cat</td>\n",
       "      <td>2019-01-02</td>\n",
       "    </tr>\n",
       "    <tr>\n",
       "      <td>1</td>\n",
       "      <td>Hachi</td>\n",
       "      <td>68</td>\n",
       "      <td>Bee</td>\n",
       "      <td>2018-12-08</td>\n",
       "    </tr>\n",
       "    <tr>\n",
       "      <td>2</td>\n",
       "      <td>Shinchan</td>\n",
       "      <td>21</td>\n",
       "      <td>Human</td>\n",
       "      <td>2018-06-05</td>\n",
       "    </tr>\n",
       "    <tr>\n",
       "      <td>3</td>\n",
       "      <td>Felix</td>\n",
       "      <td>49</td>\n",
       "      <td>Cat</td>\n",
       "      <td>2018-11-12</td>\n",
       "    </tr>\n",
       "    <tr>\n",
       "      <td>4</td>\n",
       "      <td>Felix</td>\n",
       "      <td>49</td>\n",
       "      <td>Cat</td>\n",
       "      <td>2018-11-12</td>\n",
       "    </tr>\n",
       "  </tbody>\n",
       "</table>\n",
       "</div>"
      ],
      "text/plain": [
       "       name  score   kind enrollment_date\n",
       "0  Doraemon     24    Cat      2019-01-02\n",
       "1     Hachi     68    Bee      2018-12-08\n",
       "2  Shinchan     21  Human      2018-06-05\n",
       "3     Felix     49    Cat      2018-11-12\n",
       "4     Felix     49    Cat      2018-11-12"
      ]
     },
     "execution_count": 4,
     "metadata": {},
     "output_type": "execute_result"
    }
   ],
   "source": [
    "pdf1"
   ]
  },
  {
   "cell_type": "code",
   "execution_count": 5,
   "metadata": {},
   "outputs": [
    {
     "data": {
      "text/html": [
       "<div>\n",
       "<style scoped>\n",
       "    .dataframe tbody tr th:only-of-type {\n",
       "        vertical-align: middle;\n",
       "    }\n",
       "\n",
       "    .dataframe tbody tr th {\n",
       "        vertical-align: top;\n",
       "    }\n",
       "\n",
       "    .dataframe thead th {\n",
       "        text-align: right;\n",
       "    }\n",
       "</style>\n",
       "<table border=\"1\" class=\"dataframe\">\n",
       "  <thead>\n",
       "    <tr style=\"text-align: right;\">\n",
       "      <th></th>\n",
       "      <th>name</th>\n",
       "      <th>score</th>\n",
       "      <th>kind</th>\n",
       "      <th>enrollment_date</th>\n",
       "    </tr>\n",
       "  </thead>\n",
       "  <tbody>\n",
       "    <tr>\n",
       "      <td>0</td>\n",
       "      <td>Nobita</td>\n",
       "      <td>60</td>\n",
       "      <td>Human</td>\n",
       "      <td>2019-12-02</td>\n",
       "    </tr>\n",
       "    <tr>\n",
       "      <td>1</td>\n",
       "      <td>Doraemon</td>\n",
       "      <td>21</td>\n",
       "      <td>Cat</td>\n",
       "      <td>2018-11-01</td>\n",
       "    </tr>\n",
       "    <tr>\n",
       "      <td>2</td>\n",
       "      <td>Dorami</td>\n",
       "      <td>45</td>\n",
       "      <td>Cat</td>\n",
       "      <td>2018-06-15</td>\n",
       "    </tr>\n",
       "    <tr>\n",
       "      <td>3</td>\n",
       "      <td>Ratatouile</td>\n",
       "      <td>30</td>\n",
       "      <td>Mouse</td>\n",
       "      <td>2018-10-12</td>\n",
       "    </tr>\n",
       "  </tbody>\n",
       "</table>\n",
       "</div>"
      ],
      "text/plain": [
       "         name  score   kind enrollment_date\n",
       "0      Nobita     60  Human      2019-12-02\n",
       "1    Doraemon     21    Cat      2018-11-01\n",
       "2      Dorami     45    Cat      2018-06-15\n",
       "3  Ratatouile     30  Mouse      2018-10-12"
      ]
     },
     "execution_count": 5,
     "metadata": {},
     "output_type": "execute_result"
    }
   ],
   "source": [
    "pdf2"
   ]
  },
  {
   "cell_type": "code",
   "execution_count": 6,
   "metadata": {},
   "outputs": [],
   "source": [
    "sdf1 = sc.createDataFrame(pdf1)\n",
    "sdf2 = sc.createDataFrame(pdf2)"
   ]
  },
  {
   "cell_type": "code",
   "execution_count": 7,
   "metadata": {},
   "outputs": [
    {
     "name": "stdout",
     "output_type": "stream",
     "text": [
      "+--------+-----+-----+---------------+\n",
      "|    name|score| kind|enrollment_date|\n",
      "+--------+-----+-----+---------------+\n",
      "|Doraemon|   24|  Cat|     2019-01-02|\n",
      "|   Hachi|   68|  Bee|     2018-12-08|\n",
      "|Shinchan|   21|Human|     2018-06-05|\n",
      "|   Felix|   49|  Cat|     2018-11-12|\n",
      "|   Felix|   49|  Cat|     2018-11-12|\n",
      "+--------+-----+-----+---------------+\n",
      "\n"
     ]
    }
   ],
   "source": [
    "sdf1.show()"
   ]
  },
  {
   "cell_type": "code",
   "execution_count": 8,
   "metadata": {},
   "outputs": [
    {
     "name": "stdout",
     "output_type": "stream",
     "text": [
      "+----------+-----+-----+---------------+\n",
      "|      name|score| kind|enrollment_date|\n",
      "+----------+-----+-----+---------------+\n",
      "|    Nobita|   60|Human|     2019-12-02|\n",
      "|  Doraemon|   21|  Cat|     2018-11-01|\n",
      "|    Dorami|   45|  Cat|     2018-06-15|\n",
      "|Ratatouile|   30|Mouse|     2018-10-12|\n",
      "+----------+-----+-----+---------------+\n",
      "\n"
     ]
    }
   ],
   "source": [
    "sdf2.show()"
   ]
  },
  {
   "cell_type": "markdown",
   "metadata": {},
   "source": [
    "# Joins <a id='joins'></a>"
   ]
  },
  {
   "cell_type": "markdown",
   "metadata": {},
   "source": [
    "### pandas"
   ]
  },
  {
   "cell_type": "code",
   "execution_count": 9,
   "metadata": {},
   "outputs": [
    {
     "data": {
      "text/html": [
       "<div>\n",
       "<style scoped>\n",
       "    .dataframe tbody tr th:only-of-type {\n",
       "        vertical-align: middle;\n",
       "    }\n",
       "\n",
       "    .dataframe tbody tr th {\n",
       "        vertical-align: top;\n",
       "    }\n",
       "\n",
       "    .dataframe thead th {\n",
       "        text-align: right;\n",
       "    }\n",
       "</style>\n",
       "<table border=\"1\" class=\"dataframe\">\n",
       "  <thead>\n",
       "    <tr style=\"text-align: right;\">\n",
       "      <th></th>\n",
       "      <th>name</th>\n",
       "      <th>score_pdf1</th>\n",
       "      <th>kind_pdf1</th>\n",
       "      <th>enrollment_date_pdf1</th>\n",
       "      <th>score</th>\n",
       "      <th>kind</th>\n",
       "      <th>enrollment_date</th>\n",
       "    </tr>\n",
       "  </thead>\n",
       "  <tbody>\n",
       "    <tr>\n",
       "      <td>0</td>\n",
       "      <td>Doraemon</td>\n",
       "      <td>24</td>\n",
       "      <td>Cat</td>\n",
       "      <td>2019-01-02</td>\n",
       "      <td>21.0</td>\n",
       "      <td>Cat</td>\n",
       "      <td>2018-11-01</td>\n",
       "    </tr>\n",
       "    <tr>\n",
       "      <td>1</td>\n",
       "      <td>Felix</td>\n",
       "      <td>49</td>\n",
       "      <td>Cat</td>\n",
       "      <td>2018-11-12</td>\n",
       "      <td>NaN</td>\n",
       "      <td>NaN</td>\n",
       "      <td>NaN</td>\n",
       "    </tr>\n",
       "    <tr>\n",
       "      <td>2</td>\n",
       "      <td>Felix</td>\n",
       "      <td>49</td>\n",
       "      <td>Cat</td>\n",
       "      <td>2018-11-12</td>\n",
       "      <td>NaN</td>\n",
       "      <td>NaN</td>\n",
       "      <td>NaN</td>\n",
       "    </tr>\n",
       "    <tr>\n",
       "      <td>3</td>\n",
       "      <td>Hachi</td>\n",
       "      <td>68</td>\n",
       "      <td>Bee</td>\n",
       "      <td>2018-12-08</td>\n",
       "      <td>NaN</td>\n",
       "      <td>NaN</td>\n",
       "      <td>NaN</td>\n",
       "    </tr>\n",
       "    <tr>\n",
       "      <td>4</td>\n",
       "      <td>Shinchan</td>\n",
       "      <td>21</td>\n",
       "      <td>Human</td>\n",
       "      <td>2018-06-05</td>\n",
       "      <td>NaN</td>\n",
       "      <td>NaN</td>\n",
       "      <td>NaN</td>\n",
       "    </tr>\n",
       "  </tbody>\n",
       "</table>\n",
       "</div>"
      ],
      "text/plain": [
       "       name  score_pdf1 kind_pdf1 enrollment_date_pdf1  score kind  \\\n",
       "0  Doraemon          24       Cat           2019-01-02   21.0  Cat   \n",
       "1     Felix          49       Cat           2018-11-12    NaN  NaN   \n",
       "2     Felix          49       Cat           2018-11-12    NaN  NaN   \n",
       "3     Hachi          68       Bee           2018-12-08    NaN  NaN   \n",
       "4  Shinchan          21     Human           2018-06-05    NaN  NaN   \n",
       "\n",
       "  enrollment_date  \n",
       "0      2018-11-01  \n",
       "1             NaN  \n",
       "2             NaN  \n",
       "3             NaN  \n",
       "4             NaN  "
      ]
     },
     "execution_count": 9,
     "metadata": {},
     "output_type": "execute_result"
    }
   ],
   "source": [
    "pdf1.set_index('name').join(pdf2.set_index('name'),how='left',lsuffix='_pdf1').reset_index()"
   ]
  },
  {
   "cell_type": "code",
   "execution_count": 10,
   "metadata": {},
   "outputs": [
    {
     "data": {
      "text/html": [
       "<div>\n",
       "<style scoped>\n",
       "    .dataframe tbody tr th:only-of-type {\n",
       "        vertical-align: middle;\n",
       "    }\n",
       "\n",
       "    .dataframe tbody tr th {\n",
       "        vertical-align: top;\n",
       "    }\n",
       "\n",
       "    .dataframe thead th {\n",
       "        text-align: right;\n",
       "    }\n",
       "</style>\n",
       "<table border=\"1\" class=\"dataframe\">\n",
       "  <thead>\n",
       "    <tr style=\"text-align: right;\">\n",
       "      <th></th>\n",
       "      <th>name</th>\n",
       "      <th>score_pdf1</th>\n",
       "      <th>kind_pdf1</th>\n",
       "      <th>enrollment_date_pdf1</th>\n",
       "      <th>score_pdf2</th>\n",
       "      <th>kind_pdf2</th>\n",
       "      <th>enrollment_date_pdf2</th>\n",
       "    </tr>\n",
       "  </thead>\n",
       "  <tbody>\n",
       "    <tr>\n",
       "      <td>0</td>\n",
       "      <td>Doraemon</td>\n",
       "      <td>24</td>\n",
       "      <td>Cat</td>\n",
       "      <td>2019-01-02</td>\n",
       "      <td>21.0</td>\n",
       "      <td>Cat</td>\n",
       "      <td>2018-11-01</td>\n",
       "    </tr>\n",
       "    <tr>\n",
       "      <td>1</td>\n",
       "      <td>Hachi</td>\n",
       "      <td>68</td>\n",
       "      <td>Bee</td>\n",
       "      <td>2018-12-08</td>\n",
       "      <td>NaN</td>\n",
       "      <td>NaN</td>\n",
       "      <td>NaN</td>\n",
       "    </tr>\n",
       "    <tr>\n",
       "      <td>2</td>\n",
       "      <td>Shinchan</td>\n",
       "      <td>21</td>\n",
       "      <td>Human</td>\n",
       "      <td>2018-06-05</td>\n",
       "      <td>NaN</td>\n",
       "      <td>NaN</td>\n",
       "      <td>NaN</td>\n",
       "    </tr>\n",
       "    <tr>\n",
       "      <td>3</td>\n",
       "      <td>Felix</td>\n",
       "      <td>49</td>\n",
       "      <td>Cat</td>\n",
       "      <td>2018-11-12</td>\n",
       "      <td>NaN</td>\n",
       "      <td>NaN</td>\n",
       "      <td>NaN</td>\n",
       "    </tr>\n",
       "    <tr>\n",
       "      <td>4</td>\n",
       "      <td>Felix</td>\n",
       "      <td>49</td>\n",
       "      <td>Cat</td>\n",
       "      <td>2018-11-12</td>\n",
       "      <td>NaN</td>\n",
       "      <td>NaN</td>\n",
       "      <td>NaN</td>\n",
       "    </tr>\n",
       "  </tbody>\n",
       "</table>\n",
       "</div>"
      ],
      "text/plain": [
       "       name  score_pdf1 kind_pdf1 enrollment_date_pdf1  score_pdf2 kind_pdf2  \\\n",
       "0  Doraemon          24       Cat           2019-01-02        21.0       Cat   \n",
       "1     Hachi          68       Bee           2018-12-08         NaN       NaN   \n",
       "2  Shinchan          21     Human           2018-06-05         NaN       NaN   \n",
       "3     Felix          49       Cat           2018-11-12         NaN       NaN   \n",
       "4     Felix          49       Cat           2018-11-12         NaN       NaN   \n",
       "\n",
       "  enrollment_date_pdf2  \n",
       "0           2018-11-01  \n",
       "1                  NaN  \n",
       "2                  NaN  \n",
       "3                  NaN  \n",
       "4                  NaN  "
      ]
     },
     "execution_count": 10,
     "metadata": {},
     "output_type": "execute_result"
    }
   ],
   "source": [
    "pdf1.merge(pdf2,on='name',how='left',suffixes=['_pdf1','_pdf2'])"
   ]
  },
  {
   "cell_type": "markdown",
   "metadata": {},
   "source": [
    "### sql"
   ]
  },
  {
   "cell_type": "code",
   "execution_count": 11,
   "metadata": {},
   "outputs": [],
   "source": [
    "sql_sc.registerDataFrameAsTable(sdf1,'table1')\n",
    "sql_sc.registerDataFrameAsTable(sdf2,'table2')"
   ]
  },
  {
   "cell_type": "code",
   "execution_count": 12,
   "metadata": {},
   "outputs": [
    {
     "data": {
      "text/plain": [
       "[Row(name='Felix', score=49, kind='Cat', enrollment_date='2018-11-12', name=None, score=None, kind=None, enrollment_date=None),\n",
       " Row(name='Felix', score=49, kind='Cat', enrollment_date='2018-11-12', name=None, score=None, kind=None, enrollment_date=None),\n",
       " Row(name='Shinchan', score=21, kind='Human', enrollment_date='2018-06-05', name=None, score=None, kind=None, enrollment_date=None),\n",
       " Row(name='Doraemon', score=24, kind='Cat', enrollment_date='2019-01-02', name='Doraemon', score=21, kind='Cat', enrollment_date='2018-11-01'),\n",
       " Row(name='Hachi', score=68, kind='Bee', enrollment_date='2018-12-08', name=None, score=None, kind=None, enrollment_date=None)]"
      ]
     },
     "execution_count": 12,
     "metadata": {},
     "output_type": "execute_result"
    }
   ],
   "source": [
    "sql_sc.sql(\"\"\"    \n",
    "select *\n",
    "from table1\n",
    "left join table2 on table1.name = table2.name\n",
    "\"\"\").collect()"
   ]
  },
  {
   "cell_type": "code",
   "execution_count": 13,
   "metadata": {},
   "outputs": [
    {
     "name": "stdout",
     "output_type": "stream",
     "text": [
      "+--------+-----+-----+---------------+--------+-----+----+---------------+\n",
      "|    name|score| kind|enrollment_date|    name|score|kind|enrollment_date|\n",
      "+--------+-----+-----+---------------+--------+-----+----+---------------+\n",
      "|   Felix|   49|  Cat|     2018-11-12|    null| null|null|           null|\n",
      "|   Felix|   49|  Cat|     2018-11-12|    null| null|null|           null|\n",
      "|Shinchan|   21|Human|     2018-06-05|    null| null|null|           null|\n",
      "|Doraemon|   24|  Cat|     2019-01-02|Doraemon|   21| Cat|     2018-11-01|\n",
      "|   Hachi|   68|  Bee|     2018-12-08|    null| null|null|           null|\n",
      "+--------+-----+-----+---------------+--------+-----+----+---------------+\n",
      "\n"
     ]
    }
   ],
   "source": [
    "sql_sc.sql(\"\"\"    \n",
    "select *\n",
    "from table1\n",
    "left join table2 on table1.name = table2.name\n",
    "\"\"\").show()"
   ]
  },
  {
   "cell_type": "markdown",
   "metadata": {},
   "source": [
    "### spark"
   ]
  },
  {
   "cell_type": "code",
   "execution_count": 14,
   "metadata": {},
   "outputs": [],
   "source": [
    "t1 = sdf1.alias('t1_alias')\n",
    "t2 = sdf2.alias('t2_alias')"
   ]
  },
  {
   "cell_type": "code",
   "execution_count": 15,
   "metadata": {},
   "outputs": [
    {
     "data": {
      "text/plain": [
       "[Row(name='Felix', score=49, kind='Cat', enrollment_date='2018-11-12', name=None, score=None, kind=None, enrollment_date=None),\n",
       " Row(name='Felix', score=49, kind='Cat', enrollment_date='2018-11-12', name=None, score=None, kind=None, enrollment_date=None),\n",
       " Row(name='Shinchan', score=21, kind='Human', enrollment_date='2018-06-05', name=None, score=None, kind=None, enrollment_date=None),\n",
       " Row(name='Doraemon', score=24, kind='Cat', enrollment_date='2019-01-02', name='Doraemon', score=21, kind='Cat', enrollment_date='2018-11-01'),\n",
       " Row(name='Hachi', score=68, kind='Bee', enrollment_date='2018-12-08', name=None, score=None, kind=None, enrollment_date=None)]"
      ]
     },
     "execution_count": 15,
     "metadata": {},
     "output_type": "execute_result"
    }
   ],
   "source": [
    "t1.join(t2, t1.name == t2.name, how='left').collect()"
   ]
  },
  {
   "cell_type": "code",
   "execution_count": 16,
   "metadata": {},
   "outputs": [
    {
     "name": "stdout",
     "output_type": "stream",
     "text": [
      "+--------+-----+-----+---------------+--------+-----+----+---------------+\n",
      "|    name|score| kind|enrollment_date|    name|score|kind|enrollment_date|\n",
      "+--------+-----+-----+---------------+--------+-----+----+---------------+\n",
      "|   Felix|   49|  Cat|     2018-11-12|    null| null|null|           null|\n",
      "|   Felix|   49|  Cat|     2018-11-12|    null| null|null|           null|\n",
      "|Shinchan|   21|Human|     2018-06-05|    null| null|null|           null|\n",
      "|Doraemon|   24|  Cat|     2019-01-02|Doraemon|   21| Cat|     2018-11-01|\n",
      "|   Hachi|   68|  Bee|     2018-12-08|    null| null|null|           null|\n",
      "+--------+-----+-----+---------------+--------+-----+----+---------------+\n",
      "\n"
     ]
    }
   ],
   "source": [
    "t1.join(t2, t1.name == t2.name, how='left').show()"
   ]
  },
  {
   "cell_type": "code",
   "execution_count": 17,
   "metadata": {},
   "outputs": [
    {
     "name": "stdout",
     "output_type": "stream",
     "text": [
      "+--------+-----+-----+---------------+--------+-----+----+---------------+\n",
      "|    name|score| kind|enrollment_date|    name|score|kind|enrollment_date|\n",
      "+--------+-----+-----+---------------+--------+-----+----+---------------+\n",
      "|   Felix|   49|  Cat|     2018-11-12|    null| null|null|           null|\n",
      "|   Felix|   49|  Cat|     2018-11-12|    null| null|null|           null|\n",
      "|Shinchan|   21|Human|     2018-06-05|    null| null|null|           null|\n",
      "|Doraemon|   24|  Cat|     2019-01-02|Doraemon|   21| Cat|     2018-11-01|\n",
      "|   Hachi|   68|  Bee|     2018-12-08|    null| null|null|           null|\n",
      "+--------+-----+-----+---------------+--------+-----+----+---------------+\n",
      "\n"
     ]
    }
   ],
   "source": [
    "sdf1.join(sdf2, sdf1.name == sdf2.name, how='left').show()"
   ]
  },
  {
   "cell_type": "markdown",
   "metadata": {},
   "source": [
    "# Drop duplicates <a id='drop_duplicates'></a>"
   ]
  },
  {
   "cell_type": "markdown",
   "metadata": {},
   "source": [
    "### pandas"
   ]
  },
  {
   "cell_type": "code",
   "execution_count": 18,
   "metadata": {},
   "outputs": [
    {
     "data": {
      "text/html": [
       "<div>\n",
       "<style scoped>\n",
       "    .dataframe tbody tr th:only-of-type {\n",
       "        vertical-align: middle;\n",
       "    }\n",
       "\n",
       "    .dataframe tbody tr th {\n",
       "        vertical-align: top;\n",
       "    }\n",
       "\n",
       "    .dataframe thead th {\n",
       "        text-align: right;\n",
       "    }\n",
       "</style>\n",
       "<table border=\"1\" class=\"dataframe\">\n",
       "  <thead>\n",
       "    <tr style=\"text-align: right;\">\n",
       "      <th></th>\n",
       "      <th>name</th>\n",
       "      <th>score</th>\n",
       "      <th>kind</th>\n",
       "      <th>enrollment_date</th>\n",
       "    </tr>\n",
       "  </thead>\n",
       "  <tbody>\n",
       "    <tr>\n",
       "      <td>0</td>\n",
       "      <td>Doraemon</td>\n",
       "      <td>24</td>\n",
       "      <td>Cat</td>\n",
       "      <td>2019-01-02</td>\n",
       "    </tr>\n",
       "    <tr>\n",
       "      <td>1</td>\n",
       "      <td>Hachi</td>\n",
       "      <td>68</td>\n",
       "      <td>Bee</td>\n",
       "      <td>2018-12-08</td>\n",
       "    </tr>\n",
       "    <tr>\n",
       "      <td>2</td>\n",
       "      <td>Shinchan</td>\n",
       "      <td>21</td>\n",
       "      <td>Human</td>\n",
       "      <td>2018-06-05</td>\n",
       "    </tr>\n",
       "    <tr>\n",
       "      <td>3</td>\n",
       "      <td>Felix</td>\n",
       "      <td>49</td>\n",
       "      <td>Cat</td>\n",
       "      <td>2018-11-12</td>\n",
       "    </tr>\n",
       "  </tbody>\n",
       "</table>\n",
       "</div>"
      ],
      "text/plain": [
       "       name  score   kind enrollment_date\n",
       "0  Doraemon     24    Cat      2019-01-02\n",
       "1     Hachi     68    Bee      2018-12-08\n",
       "2  Shinchan     21  Human      2018-06-05\n",
       "3     Felix     49    Cat      2018-11-12"
      ]
     },
     "execution_count": 18,
     "metadata": {},
     "output_type": "execute_result"
    }
   ],
   "source": [
    "pdf1.drop_duplicates()"
   ]
  },
  {
   "cell_type": "markdown",
   "metadata": {},
   "source": [
    "###  SQL"
   ]
  },
  {
   "cell_type": "code",
   "execution_count": 19,
   "metadata": {
    "scrolled": true
   },
   "outputs": [
    {
     "name": "stdout",
     "output_type": "stream",
     "text": [
      "+--------+-----+-----+---------------+\n",
      "|    name|score| kind|enrollment_date|\n",
      "+--------+-----+-----+---------------+\n",
      "|Doraemon|   24|  Cat|     2019-01-02|\n",
      "|Shinchan|   21|Human|     2018-06-05|\n",
      "|   Felix|   49|  Cat|     2018-11-12|\n",
      "|   Hachi|   68|  Bee|     2018-12-08|\n",
      "+--------+-----+-----+---------------+\n",
      "\n"
     ]
    }
   ],
   "source": [
    "sql_sc.sql(\"\"\"    \n",
    "select distinct *\n",
    "from table1\n",
    "\"\"\").show()"
   ]
  },
  {
   "cell_type": "markdown",
   "metadata": {},
   "source": [
    "### spark"
   ]
  },
  {
   "cell_type": "code",
   "execution_count": 20,
   "metadata": {},
   "outputs": [
    {
     "name": "stdout",
     "output_type": "stream",
     "text": [
      "+--------+-----+-----+---------------+\n",
      "|    name|score| kind|enrollment_date|\n",
      "+--------+-----+-----+---------------+\n",
      "|Doraemon|   24|  Cat|     2019-01-02|\n",
      "|Shinchan|   21|Human|     2018-06-05|\n",
      "|   Felix|   49|  Cat|     2018-11-12|\n",
      "|   Hachi|   68|  Bee|     2018-12-08|\n",
      "+--------+-----+-----+---------------+\n",
      "\n"
     ]
    }
   ],
   "source": [
    "sdf1.distinct().show()"
   ]
  },
  {
   "cell_type": "markdown",
   "metadata": {},
   "source": [
    "# Group By <a id='group_by'></a>"
   ]
  },
  {
   "cell_type": "markdown",
   "metadata": {},
   "source": [
    "### pandas"
   ]
  },
  {
   "cell_type": "markdown",
   "metadata": {},
   "source": [
    "#### count"
   ]
  },
  {
   "cell_type": "code",
   "execution_count": 21,
   "metadata": {},
   "outputs": [
    {
     "data": {
      "text/plain": [
       "Cat      3\n",
       "Human    1\n",
       "Bee      1\n",
       "Name: kind, dtype: int64"
      ]
     },
     "execution_count": 21,
     "metadata": {},
     "output_type": "execute_result"
    }
   ],
   "source": [
    "pdf1['kind'].value_counts()"
   ]
  },
  {
   "cell_type": "markdown",
   "metadata": {},
   "source": [
    "#### average"
   ]
  },
  {
   "cell_type": "code",
   "execution_count": 22,
   "metadata": {},
   "outputs": [
    {
     "data": {
      "text/plain": [
       "42.2"
      ]
     },
     "execution_count": 22,
     "metadata": {},
     "output_type": "execute_result"
    }
   ],
   "source": [
    "pdf1['score'].mean()"
   ]
  },
  {
   "cell_type": "markdown",
   "metadata": {},
   "source": [
    "### sql "
   ]
  },
  {
   "cell_type": "markdown",
   "metadata": {},
   "source": [
    "#### count"
   ]
  },
  {
   "cell_type": "code",
   "execution_count": 23,
   "metadata": {},
   "outputs": [
    {
     "name": "stdout",
     "output_type": "stream",
     "text": [
      "+-----+----------+\n",
      "| kind|count_kind|\n",
      "+-----+----------+\n",
      "|  Cat|         3|\n",
      "|  Bee|         1|\n",
      "|Human|         1|\n",
      "+-----+----------+\n",
      "\n"
     ]
    }
   ],
   "source": [
    "sql_sc.sql(\"\"\"    \n",
    "select kind, count(*) as count_kind\n",
    "from table1\n",
    "group by kind\n",
    "\"\"\").show()"
   ]
  },
  {
   "cell_type": "markdown",
   "metadata": {},
   "source": [
    "#### Average"
   ]
  },
  {
   "cell_type": "code",
   "execution_count": 24,
   "metadata": {},
   "outputs": [
    {
     "name": "stdout",
     "output_type": "stream",
     "text": [
      "+---------+\n",
      "|score_avg|\n",
      "+---------+\n",
      "|     42.2|\n",
      "+---------+\n",
      "\n"
     ]
    }
   ],
   "source": [
    "sql_sc.sql(\"\"\"    \n",
    "select avg(score) as score_avg\n",
    "from table1\n",
    "\"\"\").show()"
   ]
  },
  {
   "cell_type": "markdown",
   "metadata": {},
   "source": [
    "### spark"
   ]
  },
  {
   "cell_type": "markdown",
   "metadata": {},
   "source": [
    "#### count"
   ]
  },
  {
   "cell_type": "code",
   "execution_count": 25,
   "metadata": {},
   "outputs": [
    {
     "name": "stdout",
     "output_type": "stream",
     "text": [
      "+-----+-----+\n",
      "| kind|count|\n",
      "+-----+-----+\n",
      "|  Cat|    3|\n",
      "|  Bee|    1|\n",
      "|Human|    1|\n",
      "+-----+-----+\n",
      "\n"
     ]
    }
   ],
   "source": [
    "sdf1.groupBy('kind').count().show()"
   ]
  },
  {
   "cell_type": "code",
   "execution_count": 26,
   "metadata": {},
   "outputs": [
    {
     "name": "stdout",
     "output_type": "stream",
     "text": [
      "+-----+----------+\n",
      "| kind|count_kind|\n",
      "+-----+----------+\n",
      "|  Cat|         3|\n",
      "|  Bee|         1|\n",
      "|Human|         1|\n",
      "+-----+----------+\n",
      "\n"
     ]
    }
   ],
   "source": [
    "sdf1.groupBy('kind').agg(count('kind').alias('count_kind')).show()"
   ]
  },
  {
   "cell_type": "markdown",
   "metadata": {},
   "source": [
    "#### average"
   ]
  },
  {
   "cell_type": "code",
   "execution_count": 27,
   "metadata": {},
   "outputs": [
    {
     "name": "stdout",
     "output_type": "stream",
     "text": [
      "+---------+\n",
      "|score_avg|\n",
      "+---------+\n",
      "|     42.2|\n",
      "+---------+\n",
      "\n"
     ]
    }
   ],
   "source": [
    "sdf1.select(mean(col('score')).alias('score_avg')).show()"
   ]
  },
  {
   "cell_type": "markdown",
   "metadata": {},
   "source": [
    "# Order by <a id='order_by'></a>"
   ]
  },
  {
   "cell_type": "markdown",
   "metadata": {},
   "source": [
    "### pandas"
   ]
  },
  {
   "cell_type": "code",
   "execution_count": 28,
   "metadata": {},
   "outputs": [
    {
     "data": {
      "text/html": [
       "<div>\n",
       "<style scoped>\n",
       "    .dataframe tbody tr th:only-of-type {\n",
       "        vertical-align: middle;\n",
       "    }\n",
       "\n",
       "    .dataframe tbody tr th {\n",
       "        vertical-align: top;\n",
       "    }\n",
       "\n",
       "    .dataframe thead th {\n",
       "        text-align: right;\n",
       "    }\n",
       "</style>\n",
       "<table border=\"1\" class=\"dataframe\">\n",
       "  <thead>\n",
       "    <tr style=\"text-align: right;\">\n",
       "      <th></th>\n",
       "      <th>name</th>\n",
       "      <th>score</th>\n",
       "      <th>kind</th>\n",
       "      <th>enrollment_date</th>\n",
       "    </tr>\n",
       "  </thead>\n",
       "  <tbody>\n",
       "    <tr>\n",
       "      <td>2</td>\n",
       "      <td>Shinchan</td>\n",
       "      <td>21</td>\n",
       "      <td>Human</td>\n",
       "      <td>2018-06-05</td>\n",
       "    </tr>\n",
       "    <tr>\n",
       "      <td>0</td>\n",
       "      <td>Doraemon</td>\n",
       "      <td>24</td>\n",
       "      <td>Cat</td>\n",
       "      <td>2019-01-02</td>\n",
       "    </tr>\n",
       "    <tr>\n",
       "      <td>3</td>\n",
       "      <td>Felix</td>\n",
       "      <td>49</td>\n",
       "      <td>Cat</td>\n",
       "      <td>2018-11-12</td>\n",
       "    </tr>\n",
       "    <tr>\n",
       "      <td>4</td>\n",
       "      <td>Felix</td>\n",
       "      <td>49</td>\n",
       "      <td>Cat</td>\n",
       "      <td>2018-11-12</td>\n",
       "    </tr>\n",
       "    <tr>\n",
       "      <td>1</td>\n",
       "      <td>Hachi</td>\n",
       "      <td>68</td>\n",
       "      <td>Bee</td>\n",
       "      <td>2018-12-08</td>\n",
       "    </tr>\n",
       "  </tbody>\n",
       "</table>\n",
       "</div>"
      ],
      "text/plain": [
       "       name  score   kind enrollment_date\n",
       "2  Shinchan     21  Human      2018-06-05\n",
       "0  Doraemon     24    Cat      2019-01-02\n",
       "3     Felix     49    Cat      2018-11-12\n",
       "4     Felix     49    Cat      2018-11-12\n",
       "1     Hachi     68    Bee      2018-12-08"
      ]
     },
     "execution_count": 28,
     "metadata": {},
     "output_type": "execute_result"
    }
   ],
   "source": [
    "pdf1.sort_values(by='score')"
   ]
  },
  {
   "cell_type": "markdown",
   "metadata": {},
   "source": [
    "### sql"
   ]
  },
  {
   "cell_type": "code",
   "execution_count": 29,
   "metadata": {},
   "outputs": [
    {
     "name": "stdout",
     "output_type": "stream",
     "text": [
      "+--------+-----+-----+---------------+\n",
      "|    name|score| kind|enrollment_date|\n",
      "+--------+-----+-----+---------------+\n",
      "|Shinchan|   21|Human|     2018-06-05|\n",
      "|Doraemon|   24|  Cat|     2019-01-02|\n",
      "|   Felix|   49|  Cat|     2018-11-12|\n",
      "|   Felix|   49|  Cat|     2018-11-12|\n",
      "|   Hachi|   68|  Bee|     2018-12-08|\n",
      "+--------+-----+-----+---------------+\n",
      "\n"
     ]
    }
   ],
   "source": [
    "sql_sc.sql(\"\"\"\n",
    "select *\n",
    "from table1\n",
    "order by score\n",
    "\"\"\").show()"
   ]
  },
  {
   "cell_type": "markdown",
   "metadata": {},
   "source": [
    "### spark"
   ]
  },
  {
   "cell_type": "code",
   "execution_count": 30,
   "metadata": {},
   "outputs": [
    {
     "name": "stdout",
     "output_type": "stream",
     "text": [
      "+--------+-----+-----+---------------+\n",
      "|    name|score| kind|enrollment_date|\n",
      "+--------+-----+-----+---------------+\n",
      "|Shinchan|   21|Human|     2018-06-05|\n",
      "|Doraemon|   24|  Cat|     2019-01-02|\n",
      "|   Felix|   49|  Cat|     2018-11-12|\n",
      "|   Felix|   49|  Cat|     2018-11-12|\n",
      "|   Hachi|   68|  Bee|     2018-12-08|\n",
      "+--------+-----+-----+---------------+\n",
      "\n"
     ]
    }
   ],
   "source": [
    "sdf1.orderBy('score').show()"
   ]
  },
  {
   "cell_type": "markdown",
   "metadata": {},
   "source": [
    "# Filter using where <a id='filter_using_where'></a>"
   ]
  },
  {
   "cell_type": "markdown",
   "metadata": {},
   "source": [
    "### pandas"
   ]
  },
  {
   "cell_type": "code",
   "execution_count": 31,
   "metadata": {},
   "outputs": [
    {
     "data": {
      "text/html": [
       "<div>\n",
       "<style scoped>\n",
       "    .dataframe tbody tr th:only-of-type {\n",
       "        vertical-align: middle;\n",
       "    }\n",
       "\n",
       "    .dataframe tbody tr th {\n",
       "        vertical-align: top;\n",
       "    }\n",
       "\n",
       "    .dataframe thead th {\n",
       "        text-align: right;\n",
       "    }\n",
       "</style>\n",
       "<table border=\"1\" class=\"dataframe\">\n",
       "  <thead>\n",
       "    <tr style=\"text-align: right;\">\n",
       "      <th></th>\n",
       "      <th>name</th>\n",
       "      <th>score</th>\n",
       "      <th>kind</th>\n",
       "      <th>enrollment_date</th>\n",
       "    </tr>\n",
       "  </thead>\n",
       "  <tbody>\n",
       "    <tr>\n",
       "      <td>0</td>\n",
       "      <td>Doraemon</td>\n",
       "      <td>24</td>\n",
       "      <td>Cat</td>\n",
       "      <td>2019-01-02</td>\n",
       "    </tr>\n",
       "    <tr>\n",
       "      <td>2</td>\n",
       "      <td>Shinchan</td>\n",
       "      <td>21</td>\n",
       "      <td>Human</td>\n",
       "      <td>2018-06-05</td>\n",
       "    </tr>\n",
       "  </tbody>\n",
       "</table>\n",
       "</div>"
      ],
      "text/plain": [
       "       name  score   kind enrollment_date\n",
       "0  Doraemon     24    Cat      2019-01-02\n",
       "2  Shinchan     21  Human      2018-06-05"
      ]
     },
     "execution_count": 31,
     "metadata": {},
     "output_type": "execute_result"
    }
   ],
   "source": [
    "pdf1[pdf1['score']<30]"
   ]
  },
  {
   "cell_type": "markdown",
   "metadata": {},
   "source": [
    "### sql"
   ]
  },
  {
   "cell_type": "code",
   "execution_count": 32,
   "metadata": {},
   "outputs": [
    {
     "name": "stdout",
     "output_type": "stream",
     "text": [
      "+--------+-----+-----+---------------+\n",
      "|    name|score| kind|enrollment_date|\n",
      "+--------+-----+-----+---------------+\n",
      "|Doraemon|   24|  Cat|     2019-01-02|\n",
      "|Shinchan|   21|Human|     2018-06-05|\n",
      "+--------+-----+-----+---------------+\n",
      "\n"
     ]
    }
   ],
   "source": [
    "sql_sc.sql(\"\"\"\n",
    "select *\n",
    "from table1\n",
    "where score < 30\n",
    "\"\"\").show()"
   ]
  },
  {
   "cell_type": "markdown",
   "metadata": {},
   "source": [
    "### spark"
   ]
  },
  {
   "cell_type": "code",
   "execution_count": 33,
   "metadata": {},
   "outputs": [
    {
     "name": "stdout",
     "output_type": "stream",
     "text": [
      "+--------+-----+-----+---------------+\n",
      "|    name|score| kind|enrollment_date|\n",
      "+--------+-----+-----+---------------+\n",
      "|Doraemon|   24|  Cat|     2019-01-02|\n",
      "|Shinchan|   21|Human|     2018-06-05|\n",
      "+--------+-----+-----+---------------+\n",
      "\n"
     ]
    }
   ],
   "source": [
    "sdf1.where(sdf1.score < 30).show()"
   ]
  },
  {
   "cell_type": "markdown",
   "metadata": {},
   "source": [
    "# Filter using like <a id='filter_using_like'></a>"
   ]
  },
  {
   "cell_type": "markdown",
   "metadata": {},
   "source": [
    "### pandas"
   ]
  },
  {
   "cell_type": "code",
   "execution_count": 34,
   "metadata": {},
   "outputs": [
    {
     "data": {
      "text/html": [
       "<div>\n",
       "<style scoped>\n",
       "    .dataframe tbody tr th:only-of-type {\n",
       "        vertical-align: middle;\n",
       "    }\n",
       "\n",
       "    .dataframe tbody tr th {\n",
       "        vertical-align: top;\n",
       "    }\n",
       "\n",
       "    .dataframe thead th {\n",
       "        text-align: right;\n",
       "    }\n",
       "</style>\n",
       "<table border=\"1\" class=\"dataframe\">\n",
       "  <thead>\n",
       "    <tr style=\"text-align: right;\">\n",
       "      <th></th>\n",
       "      <th>name</th>\n",
       "      <th>score</th>\n",
       "      <th>kind</th>\n",
       "      <th>enrollment_date</th>\n",
       "    </tr>\n",
       "  </thead>\n",
       "  <tbody>\n",
       "    <tr>\n",
       "      <td>0</td>\n",
       "      <td>Doraemon</td>\n",
       "      <td>24</td>\n",
       "      <td>Cat</td>\n",
       "      <td>2019-01-02</td>\n",
       "    </tr>\n",
       "  </tbody>\n",
       "</table>\n",
       "</div>"
      ],
      "text/plain": [
       "       name  score kind enrollment_date\n",
       "0  Doraemon     24  Cat      2019-01-02"
      ]
     },
     "execution_count": 34,
     "metadata": {},
     "output_type": "execute_result"
    }
   ],
   "source": [
    "pdf1[pdf1['name'].str.contains(\"dora\",case=False)]"
   ]
  },
  {
   "cell_type": "markdown",
   "metadata": {},
   "source": [
    "### sql"
   ]
  },
  {
   "cell_type": "code",
   "execution_count": 35,
   "metadata": {},
   "outputs": [
    {
     "name": "stdout",
     "output_type": "stream",
     "text": [
      "+--------+-----+----+---------------+\n",
      "|    name|score|kind|enrollment_date|\n",
      "+--------+-----+----+---------------+\n",
      "|Doraemon|   24| Cat|     2019-01-02|\n",
      "+--------+-----+----+---------------+\n",
      "\n"
     ]
    }
   ],
   "source": [
    "sql_sc.sql(\"\"\"\n",
    "select *\n",
    "from table1\n",
    "where lower(name) like 'dora%'\n",
    "\"\"\").show()"
   ]
  },
  {
   "cell_type": "markdown",
   "metadata": {},
   "source": [
    "### spark"
   ]
  },
  {
   "cell_type": "code",
   "execution_count": 36,
   "metadata": {},
   "outputs": [
    {
     "name": "stdout",
     "output_type": "stream",
     "text": [
      "+--------+-----+----+---------------+\n",
      "|    name|score|kind|enrollment_date|\n",
      "+--------+-----+----+---------------+\n",
      "|Doraemon|   24| Cat|     2019-01-02|\n",
      "+--------+-----+----+---------------+\n",
      "\n"
     ]
    }
   ],
   "source": [
    "sdf1.where(lower(col('name')).like(\"dora%\")).show()"
   ]
  },
  {
   "cell_type": "markdown",
   "metadata": {},
   "source": [
    "# Count distinct values in a column <a id='count_distinct_values_in_a_column'></a>"
   ]
  },
  {
   "cell_type": "markdown",
   "metadata": {},
   "source": [
    "### pandas"
   ]
  },
  {
   "cell_type": "code",
   "execution_count": 37,
   "metadata": {},
   "outputs": [
    {
     "data": {
      "text/plain": [
       "array(['Cat', 'Bee', 'Human'], dtype=object)"
      ]
     },
     "execution_count": 37,
     "metadata": {},
     "output_type": "execute_result"
    }
   ],
   "source": [
    "pdf1['kind'].unique()"
   ]
  },
  {
   "cell_type": "code",
   "execution_count": 38,
   "metadata": {},
   "outputs": [
    {
     "data": {
      "text/plain": [
       "3"
      ]
     },
     "execution_count": 38,
     "metadata": {},
     "output_type": "execute_result"
    }
   ],
   "source": [
    "pdf1['kind'].nunique()"
   ]
  },
  {
   "cell_type": "markdown",
   "metadata": {},
   "source": [
    "### sql"
   ]
  },
  {
   "cell_type": "code",
   "execution_count": 39,
   "metadata": {},
   "outputs": [
    {
     "name": "stdout",
     "output_type": "stream",
     "text": [
      "+-----+\n",
      "| kind|\n",
      "+-----+\n",
      "|  Cat|\n",
      "|  Bee|\n",
      "|Human|\n",
      "+-----+\n",
      "\n"
     ]
    }
   ],
   "source": [
    "sql_sc.sql(\"\"\"\n",
    "select distinct kind\n",
    "from table1\n",
    "\"\"\").show()"
   ]
  },
  {
   "cell_type": "code",
   "execution_count": 40,
   "metadata": {},
   "outputs": [
    {
     "name": "stdout",
     "output_type": "stream",
     "text": [
      "+-----------------+\n",
      "|count_unique_kind|\n",
      "+-----------------+\n",
      "|                3|\n",
      "+-----------------+\n",
      "\n"
     ]
    }
   ],
   "source": [
    "sql_sc.sql(\"\"\"\n",
    "select count(distinct kind) as count_unique_kind\n",
    "from table1\n",
    "\"\"\").show()"
   ]
  },
  {
   "cell_type": "markdown",
   "metadata": {},
   "source": [
    "### spark"
   ]
  },
  {
   "cell_type": "code",
   "execution_count": 41,
   "metadata": {},
   "outputs": [
    {
     "name": "stdout",
     "output_type": "stream",
     "text": [
      "+-----+\n",
      "| kind|\n",
      "+-----+\n",
      "|  Cat|\n",
      "|  Bee|\n",
      "|Human|\n",
      "+-----+\n",
      "\n"
     ]
    }
   ],
   "source": [
    "sdf1.select(\"kind\").distinct().show()"
   ]
  },
  {
   "cell_type": "code",
   "execution_count": 42,
   "metadata": {},
   "outputs": [
    {
     "name": "stdout",
     "output_type": "stream",
     "text": [
      "+-----------------+\n",
      "|count_unique_kind|\n",
      "+-----------------+\n",
      "|                3|\n",
      "+-----------------+\n",
      "\n"
     ]
    }
   ],
   "source": [
    "sdf1.select(countDistinct(\"kind\").alias('count_unique_kind')).alias('count_kind').show()"
   ]
  },
  {
   "cell_type": "markdown",
   "metadata": {},
   "source": [
    "# Count null rows per column <a id='count_null_rows_per_column'></a>"
   ]
  },
  {
   "cell_type": "markdown",
   "metadata": {},
   "source": [
    "### pandas"
   ]
  },
  {
   "cell_type": "code",
   "execution_count": 43,
   "metadata": {},
   "outputs": [
    {
     "data": {
      "text/html": [
       "<div>\n",
       "<style scoped>\n",
       "    .dataframe tbody tr th:only-of-type {\n",
       "        vertical-align: middle;\n",
       "    }\n",
       "\n",
       "    .dataframe tbody tr th {\n",
       "        vertical-align: top;\n",
       "    }\n",
       "\n",
       "    .dataframe thead th {\n",
       "        text-align: right;\n",
       "    }\n",
       "</style>\n",
       "<table border=\"1\" class=\"dataframe\">\n",
       "  <thead>\n",
       "    <tr style=\"text-align: right;\">\n",
       "      <th></th>\n",
       "      <th>score</th>\n",
       "    </tr>\n",
       "  </thead>\n",
       "  <tbody>\n",
       "    <tr>\n",
       "      <td>count</td>\n",
       "      <td>5.000000</td>\n",
       "    </tr>\n",
       "    <tr>\n",
       "      <td>mean</td>\n",
       "      <td>42.200000</td>\n",
       "    </tr>\n",
       "    <tr>\n",
       "      <td>std</td>\n",
       "      <td>19.613771</td>\n",
       "    </tr>\n",
       "    <tr>\n",
       "      <td>min</td>\n",
       "      <td>21.000000</td>\n",
       "    </tr>\n",
       "    <tr>\n",
       "      <td>25%</td>\n",
       "      <td>24.000000</td>\n",
       "    </tr>\n",
       "    <tr>\n",
       "      <td>50%</td>\n",
       "      <td>49.000000</td>\n",
       "    </tr>\n",
       "    <tr>\n",
       "      <td>75%</td>\n",
       "      <td>49.000000</td>\n",
       "    </tr>\n",
       "    <tr>\n",
       "      <td>max</td>\n",
       "      <td>68.000000</td>\n",
       "    </tr>\n",
       "  </tbody>\n",
       "</table>\n",
       "</div>"
      ],
      "text/plain": [
       "           score\n",
       "count   5.000000\n",
       "mean   42.200000\n",
       "std    19.613771\n",
       "min    21.000000\n",
       "25%    24.000000\n",
       "50%    49.000000\n",
       "75%    49.000000\n",
       "max    68.000000"
      ]
     },
     "execution_count": 43,
     "metadata": {},
     "output_type": "execute_result"
    }
   ],
   "source": [
    "pdf1.describe()"
   ]
  },
  {
   "cell_type": "code",
   "execution_count": 44,
   "metadata": {},
   "outputs": [
    {
     "data": {
      "text/plain": [
       "name               0\n",
       "score              0\n",
       "kind               0\n",
       "enrollment_date    0\n",
       "dtype: int64"
      ]
     },
     "execution_count": 44,
     "metadata": {},
     "output_type": "execute_result"
    }
   ],
   "source": [
    "pdf1.isnull().sum()"
   ]
  },
  {
   "cell_type": "markdown",
   "metadata": {},
   "source": [
    "### sql"
   ]
  },
  {
   "cell_type": "code",
   "execution_count": 45,
   "metadata": {},
   "outputs": [
    {
     "name": "stdout",
     "output_type": "stream",
     "text": [
      "+---------------+---------+-------+\n",
      "|       col_name|data_type|comment|\n",
      "+---------------+---------+-------+\n",
      "|           name|   string|   null|\n",
      "|          score|   bigint|   null|\n",
      "|           kind|   string|   null|\n",
      "|enrollment_date|   string|   null|\n",
      "+---------------+---------+-------+\n",
      "\n"
     ]
    }
   ],
   "source": [
    "sql_sc.sql(\"\"\"\n",
    "describe table1\n",
    "\"\"\").show()"
   ]
  },
  {
   "cell_type": "code",
   "execution_count": 46,
   "metadata": {},
   "outputs": [
    {
     "name": "stdout",
     "output_type": "stream",
     "text": [
      "+---------------+----------------+---------------+\n",
      "|count_null_name|count_null_score|count_null_kind|\n",
      "+---------------+----------------+---------------+\n",
      "|              0|               0|              0|\n",
      "+---------------+----------------+---------------+\n",
      "\n"
     ]
    }
   ],
   "source": [
    "sql_sc.sql(\"\"\"\n",
    "select\n",
    "sum(case when name is null then 1 else 0 end) as count_null_name,\n",
    "sum(case when score is null then 1 else 0 end) as count_null_score,\n",
    "sum(case when kind is null then 1 else 0 end) as count_null_kind\n",
    "from table1\n",
    "\"\"\").show()"
   ]
  },
  {
   "cell_type": "markdown",
   "metadata": {},
   "source": [
    "### spark"
   ]
  },
  {
   "cell_type": "code",
   "execution_count": 47,
   "metadata": {},
   "outputs": [
    {
     "name": "stdout",
     "output_type": "stream",
     "text": [
      "+-------+--------+------------------+-----+---------------+\n",
      "|summary|    name|             score| kind|enrollment_date|\n",
      "+-------+--------+------------------+-----+---------------+\n",
      "|  count|       5|                 5|    5|              5|\n",
      "|   mean|    null|              42.2| null|           null|\n",
      "| stddev|    null|19.613770672667712| null|           null|\n",
      "|    min|Doraemon|                21|  Bee|     2018-06-05|\n",
      "|    max|Shinchan|                68|Human|     2019-01-02|\n",
      "+-------+--------+------------------+-----+---------------+\n",
      "\n"
     ]
    }
   ],
   "source": [
    "sdf1.describe().show()"
   ]
  },
  {
   "cell_type": "code",
   "execution_count": 48,
   "metadata": {},
   "outputs": [
    {
     "name": "stdout",
     "output_type": "stream",
     "text": [
      "+---------------+----------------+---------------+--------------------------+\n",
      "|count_null_name|count_null_score|count_null_kind|count_null_enrollment_date|\n",
      "+---------------+----------------+---------------+--------------------------+\n",
      "|              0|               0|              0|                         0|\n",
      "+---------------+----------------+---------------+--------------------------+\n",
      "\n"
     ]
    }
   ],
   "source": [
    "sdf1.select([count(when(isnan(c), c)).alias('count_null_'+c) for c in sdf1.columns]).show()"
   ]
  },
  {
   "cell_type": "markdown",
   "metadata": {},
   "source": [
    "# Get items of a column in table A not present in a column of table B <a id='get_items_A_not_in_B'></a>"
   ]
  },
  {
   "cell_type": "markdown",
   "metadata": {},
   "source": [
    "### pandas"
   ]
  },
  {
   "cell_type": "code",
   "execution_count": 49,
   "metadata": {},
   "outputs": [
    {
     "data": {
      "text/plain": [
       "1    Bee\n",
       "Name: kind, dtype: object"
      ]
     },
     "execution_count": 49,
     "metadata": {},
     "output_type": "execute_result"
    }
   ],
   "source": [
    "pdf1[~pdf1['kind'].isin(pdf2['kind'])]['kind']"
   ]
  },
  {
   "cell_type": "markdown",
   "metadata": {},
   "source": [
    "### sql"
   ]
  },
  {
   "cell_type": "code",
   "execution_count": 50,
   "metadata": {},
   "outputs": [
    {
     "name": "stdout",
     "output_type": "stream",
     "text": [
      "+----+\n",
      "|kind|\n",
      "+----+\n",
      "| Bee|\n",
      "+----+\n",
      "\n"
     ]
    }
   ],
   "source": [
    "sql_sc.sql(\"\"\"\n",
    "select table1.kind\n",
    "from table1\n",
    "left anti join table2 on table2.kind = table1.kind\n",
    "\"\"\").show()"
   ]
  },
  {
   "cell_type": "markdown",
   "metadata": {},
   "source": [
    "### spark"
   ]
  },
  {
   "cell_type": "code",
   "execution_count": 51,
   "metadata": {},
   "outputs": [
    {
     "name": "stdout",
     "output_type": "stream",
     "text": [
      "+----+\n",
      "|kind|\n",
      "+----+\n",
      "| Bee|\n",
      "+----+\n",
      "\n"
     ]
    }
   ],
   "source": [
    "sdf1.select(\"kind\")\\\n",
    "    .join(sdf2,['kind'],how='left_anti')\\\n",
    "    .show()"
   ]
  }
 ],
 "metadata": {
  "kernelspec": {
   "display_name": "Python 3",
   "language": "python",
   "name": "python3"
  },
  "language_info": {
   "codemirror_mode": {
    "name": "ipython",
    "version": 3
   },
   "file_extension": ".py",
   "mimetype": "text/x-python",
   "name": "python",
   "nbconvert_exporter": "python",
   "pygments_lexer": "ipython3",
   "version": "3.6.5"
  }
 },
 "nbformat": 4,
 "nbformat_minor": 4
}
